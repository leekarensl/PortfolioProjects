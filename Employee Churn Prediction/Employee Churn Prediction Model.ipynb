{
 "cells": [
  {
   "cell_type": "code",
   "execution_count": 1,
   "id": "038b9a34",
   "metadata": {},
   "outputs": [],
   "source": [
    "# Importing all necessary libraries\n",
    "\n",
    "import pandas as pd\n",
    "import numpy as np\n",
    "import matplotlib.pyplot as plt\n",
    "from sklearn.ensemble import RandomForestClassifier\n",
    "from sklearn.model_selection import train_test_split\n",
    "from sklearn.metrics import accuracy_score\n",
    "from sklearn.utils import shuffle\n",
    "from sklearn.metrics import ConfusionMatrixDisplay, precision_score, recall_score, f1_score\n",
    "from sklearn.inspection import permutation_importance\n",
    "from imblearn.ensemble import BalancedRandomForestClassifier\n",
    "from imblearn.combine import SMOTETomek"
   ]
  },
  {
   "cell_type": "code",
   "execution_count": 2,
   "id": "125fda01",
   "metadata": {},
   "outputs": [
    {
     "data": {
      "text/plain": [
       "Index(['Age', 'Gender', 'MonthlyIncome', 'Department', 'NumCompaniesWorked',\n",
       "       'Over18', 'workingfromhome', 'BusinessTravel', 'DistanceFromHome',\n",
       "       'StandardHours', 'JobSatisfaction', 'complaintfiled',\n",
       "       'PercentSalaryHike', 'PerformanceRating', 'TotalWorkingYears',\n",
       "       'YearsAtCompany', 'YearsSinceLastPromotion', 'Left'],\n",
       "      dtype='object')"
      ]
     },
     "execution_count": 2,
     "metadata": {},
     "output_type": "execute_result"
    }
   ],
   "source": [
    "# Reading the given dataset which I have renamed as casestudy.csv\n",
    "\n",
    "df_sourcefile = pd.read_csv(\"casestudy.csv\")\n",
    "df_sourcefile.columns"
   ]
  },
  {
   "cell_type": "code",
   "execution_count": 3,
   "id": "5b37f031",
   "metadata": {},
   "outputs": [
    {
     "data": {
      "text/html": [
       "<div>\n",
       "<style scoped>\n",
       "    .dataframe tbody tr th:only-of-type {\n",
       "        vertical-align: middle;\n",
       "    }\n",
       "\n",
       "    .dataframe tbody tr th {\n",
       "        vertical-align: top;\n",
       "    }\n",
       "\n",
       "    .dataframe thead th {\n",
       "        text-align: right;\n",
       "    }\n",
       "</style>\n",
       "<table border=\"1\" class=\"dataframe\">\n",
       "  <thead>\n",
       "    <tr style=\"text-align: right;\">\n",
       "      <th></th>\n",
       "      <th>Age</th>\n",
       "      <th>Gender</th>\n",
       "      <th>MonthlyIncome</th>\n",
       "      <th>Department</th>\n",
       "      <th>NumCompaniesWorked</th>\n",
       "      <th>Over18</th>\n",
       "      <th>workingfromhome</th>\n",
       "      <th>BusinessTravel</th>\n",
       "      <th>DistanceFromHome</th>\n",
       "      <th>StandardHours</th>\n",
       "      <th>JobSatisfaction</th>\n",
       "      <th>complaintfiled</th>\n",
       "      <th>PercentSalaryHike</th>\n",
       "      <th>PerformanceRating</th>\n",
       "      <th>TotalWorkingYears</th>\n",
       "      <th>YearsAtCompany</th>\n",
       "      <th>YearsSinceLastPromotion</th>\n",
       "      <th>Left</th>\n",
       "    </tr>\n",
       "  </thead>\n",
       "  <tbody>\n",
       "    <tr>\n",
       "      <th>0</th>\n",
       "      <td>31</td>\n",
       "      <td>Female</td>\n",
       "      <td>low</td>\n",
       "      <td>Research &amp; Development</td>\n",
       "      <td>1</td>\n",
       "      <td>Y</td>\n",
       "      <td>0</td>\n",
       "      <td>Travel_Rarely</td>\n",
       "      <td>2</td>\n",
       "      <td>40</td>\n",
       "      <td>4</td>\n",
       "      <td>1</td>\n",
       "      <td>11</td>\n",
       "      <td>1</td>\n",
       "      <td>1</td>\n",
       "      <td>1</td>\n",
       "      <td>0</td>\n",
       "      <td>No</td>\n",
       "    </tr>\n",
       "    <tr>\n",
       "      <th>1</th>\n",
       "      <td>32</td>\n",
       "      <td>Male</td>\n",
       "      <td>low</td>\n",
       "      <td>Research &amp; Development</td>\n",
       "      <td>0</td>\n",
       "      <td>Y</td>\n",
       "      <td>0</td>\n",
       "      <td>Travel_Frequently</td>\n",
       "      <td>2</td>\n",
       "      <td>40</td>\n",
       "      <td>4</td>\n",
       "      <td>0</td>\n",
       "      <td>13</td>\n",
       "      <td>2</td>\n",
       "      <td>8</td>\n",
       "      <td>7</td>\n",
       "      <td>3</td>\n",
       "      <td>No</td>\n",
       "    </tr>\n",
       "    <tr>\n",
       "      <th>2</th>\n",
       "      <td>34</td>\n",
       "      <td>Female</td>\n",
       "      <td>medium</td>\n",
       "      <td>Research &amp; Development</td>\n",
       "      <td>3</td>\n",
       "      <td>Y</td>\n",
       "      <td>1</td>\n",
       "      <td>Travel_Rarely</td>\n",
       "      <td>8</td>\n",
       "      <td>40</td>\n",
       "      <td>1</td>\n",
       "      <td>0</td>\n",
       "      <td>14</td>\n",
       "      <td>3</td>\n",
       "      <td>7</td>\n",
       "      <td>0</td>\n",
       "      <td>0</td>\n",
       "      <td>No</td>\n",
       "    </tr>\n",
       "    <tr>\n",
       "      <th>3</th>\n",
       "      <td>49</td>\n",
       "      <td>Male</td>\n",
       "      <td>high</td>\n",
       "      <td>Research &amp; Development</td>\n",
       "      <td>4</td>\n",
       "      <td>Y</td>\n",
       "      <td>0</td>\n",
       "      <td>Travel_Rarely</td>\n",
       "      <td>1</td>\n",
       "      <td>40</td>\n",
       "      <td>3</td>\n",
       "      <td>0</td>\n",
       "      <td>14</td>\n",
       "      <td>3</td>\n",
       "      <td>23</td>\n",
       "      <td>8</td>\n",
       "      <td>0</td>\n",
       "      <td>No</td>\n",
       "    </tr>\n",
       "    <tr>\n",
       "      <th>4</th>\n",
       "      <td>27</td>\n",
       "      <td>Male</td>\n",
       "      <td>medium</td>\n",
       "      <td>Research &amp; Development</td>\n",
       "      <td>1</td>\n",
       "      <td>Y</td>\n",
       "      <td>0</td>\n",
       "      <td>Travel_Rarely</td>\n",
       "      <td>19</td>\n",
       "      <td>40</td>\n",
       "      <td>1</td>\n",
       "      <td>0</td>\n",
       "      <td>11</td>\n",
       "      <td>1</td>\n",
       "      <td>7</td>\n",
       "      <td>7</td>\n",
       "      <td>0</td>\n",
       "      <td>No</td>\n",
       "    </tr>\n",
       "  </tbody>\n",
       "</table>\n",
       "</div>"
      ],
      "text/plain": [
       "   Age  Gender MonthlyIncome              Department  NumCompaniesWorked  \\\n",
       "0   31  Female           low  Research & Development                   1   \n",
       "1   32    Male           low  Research & Development                   0   \n",
       "2   34  Female        medium  Research & Development                   3   \n",
       "3   49    Male          high  Research & Development                   4   \n",
       "4   27    Male        medium  Research & Development                   1   \n",
       "\n",
       "  Over18  workingfromhome     BusinessTravel  DistanceFromHome  StandardHours  \\\n",
       "0      Y                0      Travel_Rarely                 2             40   \n",
       "1      Y                0  Travel_Frequently                 2             40   \n",
       "2      Y                1      Travel_Rarely                 8             40   \n",
       "3      Y                0      Travel_Rarely                 1             40   \n",
       "4      Y                0      Travel_Rarely                19             40   \n",
       "\n",
       "   JobSatisfaction  complaintfiled  PercentSalaryHike  PerformanceRating  \\\n",
       "0                4               1                 11                  1   \n",
       "1                4               0                 13                  2   \n",
       "2                1               0                 14                  3   \n",
       "3                3               0                 14                  3   \n",
       "4                1               0                 11                  1   \n",
       "\n",
       "   TotalWorkingYears  YearsAtCompany  YearsSinceLastPromotion Left  \n",
       "0                  1               1                        0   No  \n",
       "1                  8               7                        3   No  \n",
       "2                  7               0                        0   No  \n",
       "3                 23               8                        0   No  \n",
       "4                  7               7                        0   No  "
      ]
     },
     "execution_count": 3,
     "metadata": {},
     "output_type": "execute_result"
    }
   ],
   "source": [
    "df_sourcefile.head()"
   ]
  },
  {
   "cell_type": "code",
   "execution_count": 4,
   "id": "62bb2626",
   "metadata": {},
   "outputs": [
    {
     "data": {
      "text/html": [
       "<div>\n",
       "<style scoped>\n",
       "    .dataframe tbody tr th:only-of-type {\n",
       "        vertical-align: middle;\n",
       "    }\n",
       "\n",
       "    .dataframe tbody tr th {\n",
       "        vertical-align: top;\n",
       "    }\n",
       "\n",
       "    .dataframe thead th {\n",
       "        text-align: right;\n",
       "    }\n",
       "</style>\n",
       "<table border=\"1\" class=\"dataframe\">\n",
       "  <thead>\n",
       "    <tr style=\"text-align: right;\">\n",
       "      <th></th>\n",
       "      <th>Age</th>\n",
       "      <th>NumCompaniesWorked</th>\n",
       "      <th>workingfromhome</th>\n",
       "      <th>DistanceFromHome</th>\n",
       "      <th>StandardHours</th>\n",
       "      <th>JobSatisfaction</th>\n",
       "      <th>complaintfiled</th>\n",
       "      <th>PercentSalaryHike</th>\n",
       "      <th>PerformanceRating</th>\n",
       "      <th>TotalWorkingYears</th>\n",
       "      <th>YearsAtCompany</th>\n",
       "      <th>YearsSinceLastPromotion</th>\n",
       "    </tr>\n",
       "  </thead>\n",
       "  <tbody>\n",
       "    <tr>\n",
       "      <th>count</th>\n",
       "      <td>1474.000000</td>\n",
       "      <td>1474.000000</td>\n",
       "      <td>1474.000000</td>\n",
       "      <td>1474.000000</td>\n",
       "      <td>1474.0</td>\n",
       "      <td>1474.000000</td>\n",
       "      <td>1474.000000</td>\n",
       "      <td>1474.000000</td>\n",
       "      <td>1474.000000</td>\n",
       "      <td>1474.000000</td>\n",
       "      <td>1474.000000</td>\n",
       "      <td>1474.000000</td>\n",
       "    </tr>\n",
       "    <tr>\n",
       "      <th>mean</th>\n",
       "      <td>36.945047</td>\n",
       "      <td>2.695387</td>\n",
       "      <td>0.456581</td>\n",
       "      <td>9.200136</td>\n",
       "      <td>40.0</td>\n",
       "      <td>2.731343</td>\n",
       "      <td>0.199457</td>\n",
       "      <td>15.204885</td>\n",
       "      <td>2.871099</td>\n",
       "      <td>11.291045</td>\n",
       "      <td>7.008820</td>\n",
       "      <td>2.190638</td>\n",
       "    </tr>\n",
       "    <tr>\n",
       "      <th>std</th>\n",
       "      <td>9.153312</td>\n",
       "      <td>2.501083</td>\n",
       "      <td>0.498280</td>\n",
       "      <td>8.115843</td>\n",
       "      <td>0.0</td>\n",
       "      <td>1.102861</td>\n",
       "      <td>0.399728</td>\n",
       "      <td>3.656512</td>\n",
       "      <td>1.399134</td>\n",
       "      <td>7.785923</td>\n",
       "      <td>6.120918</td>\n",
       "      <td>3.221768</td>\n",
       "    </tr>\n",
       "    <tr>\n",
       "      <th>min</th>\n",
       "      <td>18.000000</td>\n",
       "      <td>0.000000</td>\n",
       "      <td>0.000000</td>\n",
       "      <td>1.000000</td>\n",
       "      <td>40.0</td>\n",
       "      <td>1.000000</td>\n",
       "      <td>0.000000</td>\n",
       "      <td>11.000000</td>\n",
       "      <td>1.000000</td>\n",
       "      <td>0.000000</td>\n",
       "      <td>0.000000</td>\n",
       "      <td>0.000000</td>\n",
       "    </tr>\n",
       "    <tr>\n",
       "      <th>25%</th>\n",
       "      <td>30.000000</td>\n",
       "      <td>1.000000</td>\n",
       "      <td>0.000000</td>\n",
       "      <td>2.000000</td>\n",
       "      <td>40.0</td>\n",
       "      <td>2.000000</td>\n",
       "      <td>0.000000</td>\n",
       "      <td>12.000000</td>\n",
       "      <td>2.000000</td>\n",
       "      <td>6.000000</td>\n",
       "      <td>3.000000</td>\n",
       "      <td>0.000000</td>\n",
       "    </tr>\n",
       "    <tr>\n",
       "      <th>50%</th>\n",
       "      <td>36.000000</td>\n",
       "      <td>2.000000</td>\n",
       "      <td>0.000000</td>\n",
       "      <td>7.000000</td>\n",
       "      <td>40.0</td>\n",
       "      <td>3.000000</td>\n",
       "      <td>0.000000</td>\n",
       "      <td>14.000000</td>\n",
       "      <td>3.000000</td>\n",
       "      <td>10.000000</td>\n",
       "      <td>5.000000</td>\n",
       "      <td>1.000000</td>\n",
       "    </tr>\n",
       "    <tr>\n",
       "      <th>75%</th>\n",
       "      <td>43.000000</td>\n",
       "      <td>4.000000</td>\n",
       "      <td>1.000000</td>\n",
       "      <td>14.000000</td>\n",
       "      <td>40.0</td>\n",
       "      <td>4.000000</td>\n",
       "      <td>0.000000</td>\n",
       "      <td>18.000000</td>\n",
       "      <td>4.000000</td>\n",
       "      <td>15.000000</td>\n",
       "      <td>9.000000</td>\n",
       "      <td>3.000000</td>\n",
       "    </tr>\n",
       "    <tr>\n",
       "      <th>max</th>\n",
       "      <td>60.000000</td>\n",
       "      <td>9.000000</td>\n",
       "      <td>1.000000</td>\n",
       "      <td>29.000000</td>\n",
       "      <td>40.0</td>\n",
       "      <td>4.000000</td>\n",
       "      <td>1.000000</td>\n",
       "      <td>25.000000</td>\n",
       "      <td>5.000000</td>\n",
       "      <td>40.000000</td>\n",
       "      <td>40.000000</td>\n",
       "      <td>15.000000</td>\n",
       "    </tr>\n",
       "  </tbody>\n",
       "</table>\n",
       "</div>"
      ],
      "text/plain": [
       "               Age  NumCompaniesWorked  workingfromhome  DistanceFromHome  \\\n",
       "count  1474.000000         1474.000000      1474.000000       1474.000000   \n",
       "mean     36.945047            2.695387         0.456581          9.200136   \n",
       "std       9.153312            2.501083         0.498280          8.115843   \n",
       "min      18.000000            0.000000         0.000000          1.000000   \n",
       "25%      30.000000            1.000000         0.000000          2.000000   \n",
       "50%      36.000000            2.000000         0.000000          7.000000   \n",
       "75%      43.000000            4.000000         1.000000         14.000000   \n",
       "max      60.000000            9.000000         1.000000         29.000000   \n",
       "\n",
       "       StandardHours  JobSatisfaction  complaintfiled  PercentSalaryHike  \\\n",
       "count         1474.0      1474.000000     1474.000000        1474.000000   \n",
       "mean            40.0         2.731343        0.199457          15.204885   \n",
       "std              0.0         1.102861        0.399728           3.656512   \n",
       "min             40.0         1.000000        0.000000          11.000000   \n",
       "25%             40.0         2.000000        0.000000          12.000000   \n",
       "50%             40.0         3.000000        0.000000          14.000000   \n",
       "75%             40.0         4.000000        0.000000          18.000000   \n",
       "max             40.0         4.000000        1.000000          25.000000   \n",
       "\n",
       "       PerformanceRating  TotalWorkingYears  YearsAtCompany  \\\n",
       "count        1474.000000        1474.000000     1474.000000   \n",
       "mean            2.871099          11.291045        7.008820   \n",
       "std             1.399134           7.785923        6.120918   \n",
       "min             1.000000           0.000000        0.000000   \n",
       "25%             2.000000           6.000000        3.000000   \n",
       "50%             3.000000          10.000000        5.000000   \n",
       "75%             4.000000          15.000000        9.000000   \n",
       "max             5.000000          40.000000       40.000000   \n",
       "\n",
       "       YearsSinceLastPromotion  \n",
       "count              1474.000000  \n",
       "mean                  2.190638  \n",
       "std                   3.221768  \n",
       "min                   0.000000  \n",
       "25%                   0.000000  \n",
       "50%                   1.000000  \n",
       "75%                   3.000000  \n",
       "max                  15.000000  "
      ]
     },
     "execution_count": 4,
     "metadata": {},
     "output_type": "execute_result"
    }
   ],
   "source": [
    "# Getting some statistics\n",
    "\n",
    "df_sourcefile.describe()"
   ]
  },
  {
   "cell_type": "code",
   "execution_count": 5,
   "id": "03d42847",
   "metadata": {},
   "outputs": [],
   "source": [
    "# Making a copy\n",
    "\n",
    "df_hr = df_sourcefile.copy()"
   ]
  },
  {
   "cell_type": "code",
   "execution_count": 6,
   "id": "19a6121d",
   "metadata": {},
   "outputs": [],
   "source": [
    "# Dropping variables that do not influence outcome variable\n",
    "\n",
    "df_hr = df_hr.drop([\"Over18\",\"StandardHours\"], axis = 'columns')\n"
   ]
  },
  {
   "cell_type": "code",
   "execution_count": 7,
   "id": "b36355bd",
   "metadata": {},
   "outputs": [],
   "source": [
    "# One hot encoding for all categorical variables\n",
    "df_hr = pd.get_dummies(df_hr, columns = ['Gender'],drop_first = True)\n",
    "df_hr = pd.get_dummies(df_hr, columns = ['MonthlyIncome'],drop_first = True)\n",
    "df_hr = pd.get_dummies(df_hr, columns = ['Department'],drop_first = True)\n",
    "df_hr = pd.get_dummies(df_hr, columns = ['BusinessTravel'],drop_first = True)\n",
    "df_hr = pd.get_dummies(df_hr, columns = ['complaintfiled'],drop_first = True)\n",
    "df_hr = pd.get_dummies(df_hr, columns = ['Left'],drop_first = True)"
   ]
  },
  {
   "cell_type": "code",
   "execution_count": 8,
   "id": "b6d6b152",
   "metadata": {},
   "outputs": [],
   "source": [
    "df_hr = shuffle(df_hr, random_state = 42)"
   ]
  },
  {
   "cell_type": "code",
   "execution_count": 9,
   "id": "a4930a69",
   "metadata": {},
   "outputs": [
    {
     "data": {
      "text/plain": [
       "0    0.836499\n",
       "1    0.163501\n",
       "Name: Left_Yes, dtype: float64"
      ]
     },
     "execution_count": 9,
     "metadata": {},
     "output_type": "execute_result"
    }
   ],
   "source": [
    "# Checking balance of dataset\n",
    "\n",
    "df_hr[\"Left_Yes\"].value_counts(normalize = True)"
   ]
  },
  {
   "cell_type": "code",
   "execution_count": 10,
   "id": "8c783367",
   "metadata": {},
   "outputs": [],
   "source": [
    "# Splitting input and output Variables\n",
    "\n",
    "X = df_hr.drop([\"Left_Yes\"], axis = 1)\n",
    "y = df_hr[\"Left_Yes\"]"
   ]
  },
  {
   "cell_type": "code",
   "execution_count": 11,
   "id": "e95fd08d",
   "metadata": {},
   "outputs": [
    {
     "data": {
      "text/plain": [
       "((2436, 18), (2436,))"
      ]
     },
     "execution_count": 11,
     "metadata": {},
     "output_type": "execute_result"
    }
   ],
   "source": [
    "# Using SMOTETomek to sample to create a balanced dataset\n",
    "smk = SMOTETomek()\n",
    "X,y=smk.fit_resample(X,y)\n",
    "X.shape,y.shape"
   ]
  },
  {
   "cell_type": "code",
   "execution_count": 12,
   "id": "7dd7e8df",
   "metadata": {},
   "outputs": [],
   "source": [
    "# Split out training and test sets\n",
    "\n",
    "X_train, X_test, y_train, y_test = train_test_split(X,y, test_size = 0.2, random_state = 42, stratify = y)"
   ]
  },
  {
   "cell_type": "code",
   "execution_count": 13,
   "id": "fdd9a862",
   "metadata": {},
   "outputs": [
    {
     "data": {
      "text/html": [
       "<style>#sk-container-id-1 {color: black;background-color: white;}#sk-container-id-1 pre{padding: 0;}#sk-container-id-1 div.sk-toggleable {background-color: white;}#sk-container-id-1 label.sk-toggleable__label {cursor: pointer;display: block;width: 100%;margin-bottom: 0;padding: 0.3em;box-sizing: border-box;text-align: center;}#sk-container-id-1 label.sk-toggleable__label-arrow:before {content: \"▸\";float: left;margin-right: 0.25em;color: #696969;}#sk-container-id-1 label.sk-toggleable__label-arrow:hover:before {color: black;}#sk-container-id-1 div.sk-estimator:hover label.sk-toggleable__label-arrow:before {color: black;}#sk-container-id-1 div.sk-toggleable__content {max-height: 0;max-width: 0;overflow: hidden;text-align: left;background-color: #f0f8ff;}#sk-container-id-1 div.sk-toggleable__content pre {margin: 0.2em;color: black;border-radius: 0.25em;background-color: #f0f8ff;}#sk-container-id-1 input.sk-toggleable__control:checked~div.sk-toggleable__content {max-height: 200px;max-width: 100%;overflow: auto;}#sk-container-id-1 input.sk-toggleable__control:checked~label.sk-toggleable__label-arrow:before {content: \"▾\";}#sk-container-id-1 div.sk-estimator input.sk-toggleable__control:checked~label.sk-toggleable__label {background-color: #d4ebff;}#sk-container-id-1 div.sk-label input.sk-toggleable__control:checked~label.sk-toggleable__label {background-color: #d4ebff;}#sk-container-id-1 input.sk-hidden--visually {border: 0;clip: rect(1px 1px 1px 1px);clip: rect(1px, 1px, 1px, 1px);height: 1px;margin: -1px;overflow: hidden;padding: 0;position: absolute;width: 1px;}#sk-container-id-1 div.sk-estimator {font-family: monospace;background-color: #f0f8ff;border: 1px dotted black;border-radius: 0.25em;box-sizing: border-box;margin-bottom: 0.5em;}#sk-container-id-1 div.sk-estimator:hover {background-color: #d4ebff;}#sk-container-id-1 div.sk-parallel-item::after {content: \"\";width: 100%;border-bottom: 1px solid gray;flex-grow: 1;}#sk-container-id-1 div.sk-label:hover label.sk-toggleable__label {background-color: #d4ebff;}#sk-container-id-1 div.sk-serial::before {content: \"\";position: absolute;border-left: 1px solid gray;box-sizing: border-box;top: 0;bottom: 0;left: 50%;z-index: 0;}#sk-container-id-1 div.sk-serial {display: flex;flex-direction: column;align-items: center;background-color: white;padding-right: 0.2em;padding-left: 0.2em;position: relative;}#sk-container-id-1 div.sk-item {position: relative;z-index: 1;}#sk-container-id-1 div.sk-parallel {display: flex;align-items: stretch;justify-content: center;background-color: white;position: relative;}#sk-container-id-1 div.sk-item::before, #sk-container-id-1 div.sk-parallel-item::before {content: \"\";position: absolute;border-left: 1px solid gray;box-sizing: border-box;top: 0;bottom: 0;left: 50%;z-index: -1;}#sk-container-id-1 div.sk-parallel-item {display: flex;flex-direction: column;z-index: 1;position: relative;background-color: white;}#sk-container-id-1 div.sk-parallel-item:first-child::after {align-self: flex-end;width: 50%;}#sk-container-id-1 div.sk-parallel-item:last-child::after {align-self: flex-start;width: 50%;}#sk-container-id-1 div.sk-parallel-item:only-child::after {width: 0;}#sk-container-id-1 div.sk-dashed-wrapped {border: 1px dashed gray;margin: 0 0.4em 0.5em 0.4em;box-sizing: border-box;padding-bottom: 0.4em;background-color: white;}#sk-container-id-1 div.sk-label label {font-family: monospace;font-weight: bold;display: inline-block;line-height: 1.2em;}#sk-container-id-1 div.sk-label-container {text-align: center;}#sk-container-id-1 div.sk-container {/* jupyter's `normalize.less` sets `[hidden] { display: none; }` but bootstrap.min.css set `[hidden] { display: none !important; }` so we also need the `!important` here to be able to override the default hidden behavior on the sphinx rendered scikit-learn.org. See: https://github.com/scikit-learn/scikit-learn/issues/21755 */display: inline-block !important;position: relative;}#sk-container-id-1 div.sk-text-repr-fallback {display: none;}</style><div id=\"sk-container-id-1\" class=\"sk-top-container\"><div class=\"sk-text-repr-fallback\"><pre>RandomForestClassifier(max_features=5, n_estimators=500, random_state=42)</pre><b>In a Jupyter environment, please rerun this cell to show the HTML representation or trust the notebook. <br />On GitHub, the HTML representation is unable to render, please try loading this page with nbviewer.org.</b></div><div class=\"sk-container\" hidden><div class=\"sk-item\"><div class=\"sk-estimator sk-toggleable\"><input class=\"sk-toggleable__control sk-hidden--visually\" id=\"sk-estimator-id-1\" type=\"checkbox\" checked><label for=\"sk-estimator-id-1\" class=\"sk-toggleable__label sk-toggleable__label-arrow\">RandomForestClassifier</label><div class=\"sk-toggleable__content\"><pre>RandomForestClassifier(max_features=5, n_estimators=500, random_state=42)</pre></div></div></div></div></div>"
      ],
      "text/plain": [
       "RandomForestClassifier(max_features=5, n_estimators=500, random_state=42)"
      ]
     },
     "execution_count": 13,
     "metadata": {},
     "output_type": "execute_result"
    }
   ],
   "source": [
    "# Using Random Forest\n",
    "clf = RandomForestClassifier(random_state= 42, n_estimators = 500, max_features = 5)\n",
    "clf.fit(X_train, y_train)"
   ]
  },
  {
   "cell_type": "code",
   "execution_count": 14,
   "id": "e67381a2",
   "metadata": {},
   "outputs": [],
   "source": [
    "y_pred_class = clf.predict(X_test)\n",
    "y_pred_prob = clf.predict_proba(X_test)[:,1]"
   ]
  },
  {
   "cell_type": "code",
   "execution_count": 16,
   "id": "9f8c393a",
   "metadata": {},
   "outputs": [
    {
     "data": {
      "image/png": "[encoded data removed]",
      "text/plain": [
       "<Figure size 640x480 with 2 Axes>"
      ]
     },
     "metadata": {},
     "output_type": "display_data"
    }
   ],
   "source": [
    "# Creating confusion matrix to understand False Positives and False Negatives\n",
    "\n",
    "disp = ConfusionMatrixDisplay.from_predictions(y_test, y_pred_class, cmap = \"coolwarm\")\n",
    "plt.title(\"Confusion Matrix\")\n",
    "plt.ylabel(\"Actual Class\")\n",
    "plt.xlabel(\"Predicted Class\")\n",
    "plt.show()"
   ]
  },
  {
   "cell_type": "code",
   "execution_count": 17,
   "id": "fc760aab",
   "metadata": {},
   "outputs": [
    {
     "data": {
      "text/plain": [
       "0.8934426229508197"
      ]
     },
     "execution_count": 17,
     "metadata": {},
     "output_type": "execute_result"
    }
   ],
   "source": [
    "# Accuracy (the number of correct classifications out of all attempted classifications)\n",
    "\n",
    "accuracy_score(y_test, y_pred_class)"
   ]
  },
  {
   "cell_type": "code",
   "execution_count": 18,
   "id": "7ec6e672",
   "metadata": {},
   "outputs": [
    {
     "data": {
      "text/plain": [
       "0.884"
      ]
     },
     "execution_count": 18,
     "metadata": {},
     "output_type": "execute_result"
    }
   ],
   "source": [
    "# Precisions (of all observations that were predicted as positive, how many were actually positive)\n",
    "# Of all the observations that we predicted that they would leave, how many actually left\n",
    "\n",
    "precision_score(y_test, y_pred_class)"
   ]
  },
  {
   "cell_type": "code",
   "execution_count": 19,
   "id": "6b0ce0d0",
   "metadata": {},
   "outputs": [
    {
     "data": {
      "text/plain": [
       "0.9057377049180327"
      ]
     },
     "execution_count": 19,
     "metadata": {},
     "output_type": "execute_result"
    }
   ],
   "source": [
    "# Recall (Of all positive observations, how many did we predict as positives). i.e. of all the people that had left,\n",
    "# how many did we correctly predicted they would leave.\n",
    "\n",
    "recall_score(y_test, y_pred_class)"
   ]
  },
  {
   "cell_type": "code",
   "execution_count": 20,
   "id": "c5345e32",
   "metadata": {},
   "outputs": [
    {
     "data": {
      "text/plain": [
       "0.8947368421052632"
      ]
     },
     "execution_count": 20,
     "metadata": {},
     "output_type": "execute_result"
    }
   ],
   "source": [
    "# F1 score (the harmonic mean of precision and recall)\n",
    "\n",
    "f1_score(y_test, y_pred_class)"
   ]
  },
  {
   "cell_type": "code",
   "execution_count": 21,
   "id": "0af96875",
   "metadata": {},
   "outputs": [
    {
     "data": {
      "image/png": "[encoded data removed]",
      "text/plain": [
       "<Figure size 640x480 with 1 Axes>"
      ]
     },
     "metadata": {},
     "output_type": "display_data"
    }
   ],
   "source": [
    "# CLF Feature Importance\n",
    "\n",
    "feature_importance = pd.DataFrame(clf.feature_importances_)\n",
    "feature_names = pd.DataFrame(X.columns)\n",
    "feature_importance_summary = pd.concat([feature_names,feature_importance], axis = 1)\n",
    "feature_importance_summary.columns = [\"input_variable\", \"feature_importance\"]\n",
    "feature_importance_summary.sort_values(by = \"feature_importance\", inplace = True)\n",
    "\n",
    "plt.barh(feature_importance_summary[\"input_variable\"], feature_importance_summary[\"feature_importance\"])\n",
    "plt.title(\"Feature Importance of Random Forest\")\n",
    "plt.xlabel(\"Feature Importance\")\n",
    "plt.tight_layout()\n",
    "plt.show()"
   ]
  },
  {
   "cell_type": "code",
   "execution_count": 134,
   "id": "07388b8f",
   "metadata": {},
   "outputs": [],
   "source": [
    "import pickle"
   ]
  },
  {
   "cell_type": "code",
   "execution_count": 135,
   "id": "0cfb37b6",
   "metadata": {},
   "outputs": [],
   "source": [
    "# Converting model to a pickle file\n",
    "pickle.dump(clf, open(\"employee_churn_prediction.p\", \"wb\"))"
   ]
  },
  {
   "cell_type": "code",
   "execution_count": null,
   "id": "55cc4e84",
   "metadata": {},
   "outputs": [],
   "source": []
  }
 ],
 "metadata": {
  "kernelspec": {
   "display_name": "Python 3 (ipykernel)",
   "language": "python",
   "name": "python3"
  },
  "language_info": {
   "codemirror_mode": {
    "name": "ipython",
    "version": 3
   },
   "file_extension": ".py",
   "mimetype": "text/x-python",
   "name": "python",
   "nbconvert_exporter": "python",
   "pygments_lexer": "ipython3",
   "version": "3.9.16"
  }
 },
 "nbformat": 4,
 "nbformat_minor": 5
}
